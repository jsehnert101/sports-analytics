{
 "cells": [
  {
   "cell_type": "code",
   "execution_count": 1,
   "id": "indoor-decrease",
   "metadata": {},
   "outputs": [],
   "source": [
    "import numpy as np\n",
    "import pandas as pd\n",
    "pd.set_option('display.max_rows', 100)\n",
    "pd.set_option('display.max_columns', 50)\n",
    "import matplotlib.pyplot as plt\n",
    "%matplotlib inline\n",
    "import seaborn as sns\n",
    "\n",
    "import time\n",
    "import requests\n",
    "\n",
    "from nba_api.stats.static import players, teams\n",
    "from nba_api.stats.endpoints import playergamelog, playbyplay, leaguegamefinder, HustleStatsBoxScore\n",
    "from nba_api.stats.library.parameters import SeasonAll, SeasonType"
   ]
  },
  {
   "cell_type": "markdown",
   "id": "destroyed-series",
   "metadata": {},
   "source": [
    "### Exploring Basic Functionality\n",
    "\n",
    "Below are some frequently-used functions for accessing player/team data."
   ]
  },
  {
   "cell_type": "code",
   "execution_count": 2,
   "id": "attempted-hierarchy",
   "metadata": {},
   "outputs": [],
   "source": [
    "\"\"\"\n",
    "This function takes the following parameters:\n",
    "\n",
    "    pth: str path to save game_ids to\n",
    "    season_type: SeasonType obj representing type of games to access\n",
    "    \n",
    "and accumulates all game IDs into a np.array, storing them if requested.\n",
    "\"\"\"\n",
    "def get_all_game_ids(pth=None, season_type=SeasonType.regular):\n",
    "    game_ids = np.array([])\n",
    "    for team_dict in teams.get_teams():\n",
    "        team_games = leaguegamefinder.LeagueGameFinder(team_id_nullable=team_dict['id'], season_type_nullable=season_type, timeout=10).get_data_frames()[0]\n",
    "        game_ids = np.unique(np.append(game_ids, team_games['GAME_ID'].unique()))\n",
    "        time.sleep(2)\n",
    "    print('That took {0:.2f}s\\nNumber of games: {1}'.format(time.time()-start, len(game_ids)))\n",
    "    if pth:\n",
    "        np.save(pth, game_ids, allow_pickle=True)\n",
    "        return game_ids\n",
    "    else:\n",
    "        return game_ids       "
   ]
  },
  {
   "cell_type": "code",
   "execution_count": 3,
   "id": "hydraulic-sight",
   "metadata": {},
   "outputs": [],
   "source": [
    "game_ids = np.load(\"\\home\\jsehnert101\\game_ids.npy\", allow_pickle=True)"
   ]
  },
  {
   "cell_type": "code",
   "execution_count": null,
   "id": "ranging-locking",
   "metadata": {},
   "outputs": [],
   "source": [
    "# Collect all games where the situational score fits our criteria\n",
    "\n",
    "df = pd.DataFrame()\n",
    "\n",
    "n_success = 0\n",
    "\n",
    "for game_id in game_ids:\n",
    "    try:\n",
    "        game = playbyplay.PlayByPlay(game_id=game_id).get_data_frames()[0]\n",
    "    except requests.exceptions.ReadTimeout:\n",
    "        time.sleep(2)\n",
    "        continue\n",
    "    n_success += 1\n",
    "    game = game.loc[game['SCORE'].notnull()]\n",
    "    game[['min','sec']] = game['PCTIMESTRING'].str.split(':', expand=True).astype(int)\n",
    "    game[[\"visitor_score\", \"home_score\"]] = game[\"SCORE\"].str.split(\" - \", expand = True).astype(int)\n",
    "    game.rename(columns = {\"PERIOD\":\"period\", \"SCOREMARGIN\":\"score_margin\"}, inplace = True)\n",
    "    game.loc[(game['score_margin'] == 'TIE'), 'score_margin'] = 0\n",
    "    game.loc[:,'score_margin'] = game.loc[:,'score_margin'].astype(int)\n",
    "    game['winner'] = 'visitor' if game.iloc[-1,-2] > game.iloc[-1,-1] else 'home' # Create column to track who won\n",
    "    game = game[(game['period'] == 4) & (game['min'] < 1) & (game['sec'] <= 10) & (abs(game['score_margin']) <= 5)]\n",
    "    if game.empty:\n",
    "        pass\n",
    "    else:\n",
    "        df = df.append(game.loc[:,['GAME_ID', 'period', 'min', 'sec', 'HOMEDESCRIPTION', 'NEUTRALDESCRIPTION', \n",
    "                                   'VISITORDESCRIPTION', 'score_margin', 'home_score', 'visitor_score', 'winner']])\n",
    "    time.sleep(1)\n",
    "df.set_index()\n",
    "df"
   ]
  },
  {
   "cell_type": "code",
   "execution_count": 4,
   "id": "stone-fence",
   "metadata": {},
   "outputs": [
    {
     "data": {
      "text/plain": [
       "array(['0020000001', '0020000002', '0020000003', ..., '1621900004',\n",
       "       '1621900005', '1621900006'], dtype=object)"
      ]
     },
     "execution_count": 4,
     "metadata": {},
     "output_type": "execute_result"
    }
   ],
   "source": [
    "game_ids"
   ]
  },
  {
   "cell_type": "markdown",
   "id": "brilliant-guinea",
   "metadata": {},
   "source": [
    "### Hustle Stats\n",
    "Below is a dataframe with 'hustle stats' as recorded by nba-stats.com. This could provide a good frame of reference for what we want to track in terms of hustle stats."
   ]
  },
  {
   "cell_type": "code",
   "execution_count": null,
   "id": "indonesian-springfield",
   "metadata": {},
   "outputs": [],
   "source": [
    "hustle_stats = HustleStatsBoxScore(game_id='0022000449').get_data_frames() # 0: game info, 1: player stats, 2: team stats\n",
    "print(hustle_stats[1].columns)\n",
    "hustle_stats[1].head()"
   ]
  },
  {
   "cell_type": "code",
   "execution_count": null,
   "id": "according-database",
   "metadata": {},
   "outputs": [],
   "source": [
    "fairport_stats = pd.read_excel('/Users/jsehnert101/Fairport_stats.xlsx', header=[0,1], sheet_name='Fairport', na_values='-')\n",
    "opp_stats = pd.read_excel('/Users/jsehnert101/Fairport_stats.xlsx', header=[0,1], sheet_name='Opponents', na_values='-')\n",
    "fairport_stats\n"
   ]
  },
  {
   "cell_type": "code",
   "execution_count": null,
   "id": "flush-amber",
   "metadata": {},
   "outputs": [],
   "source": [
    "# Get 4th quarter stats\n",
    "fairport_ft_pct = fairport_stats.loc[4,('Free Throws', 'FT%')]\n",
    "fairport_TO_pct = fairport_stats.loc[4,('Assists and Turnovers', 'TO%')] # Prob. of turnover\n",
    "fairport_ft_pct"
   ]
  },
  {
   "cell_type": "code",
   "execution_count": null,
   "id": "authentic-columbus",
   "metadata": {},
   "outputs": [],
   "source": [
    "# Get 4th quarter opponent stats\n",
    "opp_3PT_pct = opp_stats.loc[4,('Three Pointers','3FG%')]\n",
    "opp_points_per_sideline = \n",
    "opp_points_per_baseline = \n",
    "fairport_stats.columns[0]"
   ]
  },
  {
   "cell_type": "code",
   "execution_count": null,
   "id": "patient-sharp",
   "metadata": {},
   "outputs": [],
   "source": []
  }
 ],
 "metadata": {
  "kernelspec": {
   "display_name": "Python 3",
   "language": "python",
   "name": "python3"
  },
  "language_info": {
   "codemirror_mode": {
    "name": "ipython",
    "version": 3
   },
   "file_extension": ".py",
   "mimetype": "text/x-python",
   "name": "python",
   "nbconvert_exporter": "python",
   "pygments_lexer": "ipython3",
   "version": "3.8.5"
  }
 },
 "nbformat": 4,
 "nbformat_minor": 5
}
